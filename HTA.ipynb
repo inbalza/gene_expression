{
 "cells": [
  {
   "cell_type": "code",
   "execution_count": 24,
   "metadata": {},
   "outputs": [],
   "source": [
    "import pandas as pd\n",
    "import seaborn as sns "
   ]
  },
  {
   "cell_type": "code",
   "execution_count": 25,
   "metadata": {},
   "outputs": [],
   "source": [
    "df = pd.read_csv('D:/HTA/trimming.csv')"
   ]
  },
  {
   "cell_type": "code",
   "execution_count": 26,
   "metadata": {},
   "outputs": [
    {
     "data": {
      "text/plain": [
       "0     SRR7089341\n",
       "1     SRR7089342\n",
       "2     SRR7089343\n",
       "3     SRR7089344\n",
       "4     SRR7089345\n",
       "5     SRR7089346\n",
       "6     SRR7089347\n",
       "7     SRR7089348\n",
       "8     SRR7089349\n",
       "9     SRR7089350\n",
       "10    SRR7089351\n",
       "11    SRR7089352\n",
       "12    SRR7089353\n",
       "13    SRR7089354\n",
       "14    SRR7089355\n",
       "15    SRR7089356\n",
       "Name: Sample, dtype: object"
      ]
     },
     "execution_count": 26,
     "metadata": {},
     "output_type": "execute_result"
    }
   ],
   "source": [
    "df_new = df\n",
    "df_new = df_new.drop(['Input'],axis=1)\n",
    "df_new['Sample']"
   ]
  },
  {
   "cell_type": "code",
   "execution_count": 27,
   "metadata": {},
   "outputs": [
    {
     "data": {
      "text/plain": [
       "<matplotlib.axes._subplots.AxesSubplot at 0x1f34b180408>"
      ]
     },
     "execution_count": 27,
     "metadata": {},
     "output_type": "execute_result"
    },
    {
     "data": {
      "image/png": "[encoded data removed]",
      "text/plain": [
       "<Figure size 432x288 with 1 Axes>"
      ]
     },
     "metadata": {
      "needs_background": "light"
     },
     "output_type": "display_data"
    }
   ],
   "source": [
    "sns.barplot(y='Sample',x='Input',data=df, palette=\"rainbow\")"
   ]
  },
  {
   "cell_type": "code",
   "execution_count": 28,
   "metadata": {},
   "outputs": [
    {
     "data": {
      "text/plain": [
       "<matplotlib.axes._subplots.AxesSubplot at 0x1f34aeab408>"
      ]
     },
     "execution_count": 28,
     "metadata": {},
     "output_type": "execute_result"
    },
    {
     "data": {
      "image/png": "[encoded data removed]",
      "text/plain": [
       "<Figure size 432x288 with 1 Axes>"
      ]
     },
     "metadata": {
      "needs_background": "light"
     },
     "output_type": "display_data"
    }
   ],
   "source": [
    "\n",
    "df_new.set_index('Sample').sort_values('Sample',ascending=False).plot(kind='barh',stacked=True,colormap=\"Accent\")"
   ]
  },
  {
   "cell_type": "code",
   "execution_count": 29,
   "metadata": {},
   "outputs": [
    {
     "data": {
      "text/html": [
       "<div>\n",
       "<style scoped>\n",
       "    .dataframe tbody tr th:only-of-type {\n",
       "        vertical-align: middle;\n",
       "    }\n",
       "\n",
       "    .dataframe tbody tr th {\n",
       "        vertical-align: top;\n",
       "    }\n",
       "\n",
       "    .dataframe thead th {\n",
       "        text-align: right;\n",
       "    }\n",
       "</style>\n",
       "<table border=\"1\" class=\"dataframe\">\n",
       "  <thead>\n",
       "    <tr style=\"text-align: right;\">\n",
       "      <th></th>\n",
       "      <th>Sample</th>\n",
       "      <th>Surviving</th>\n",
       "      <th>Dropped</th>\n",
       "      <th>Surviving_perc</th>\n",
       "      <th>Dropped_perc</th>\n",
       "    </tr>\n",
       "  </thead>\n",
       "  <tbody>\n",
       "    <tr>\n",
       "      <td>0</td>\n",
       "      <td>SRR7089341</td>\n",
       "      <td>30981591</td>\n",
       "      <td>614091</td>\n",
       "      <td>98.056408</td>\n",
       "      <td>1.943592</td>\n",
       "    </tr>\n",
       "    <tr>\n",
       "      <td>1</td>\n",
       "      <td>SRR7089342</td>\n",
       "      <td>36898654</td>\n",
       "      <td>551204</td>\n",
       "      <td>98.528155</td>\n",
       "      <td>1.471845</td>\n",
       "    </tr>\n",
       "    <tr>\n",
       "      <td>2</td>\n",
       "      <td>SRR7089343</td>\n",
       "      <td>50542065</td>\n",
       "      <td>818434</td>\n",
       "      <td>98.406491</td>\n",
       "      <td>1.593509</td>\n",
       "    </tr>\n",
       "    <tr>\n",
       "      <td>3</td>\n",
       "      <td>SRR7089344</td>\n",
       "      <td>62410347</td>\n",
       "      <td>1143297</td>\n",
       "      <td>98.201052</td>\n",
       "      <td>1.798948</td>\n",
       "    </tr>\n",
       "    <tr>\n",
       "      <td>4</td>\n",
       "      <td>SRR7089345</td>\n",
       "      <td>47146579</td>\n",
       "      <td>535884</td>\n",
       "      <td>98.876140</td>\n",
       "      <td>1.123860</td>\n",
       "    </tr>\n",
       "    <tr>\n",
       "      <td>5</td>\n",
       "      <td>SRR7089346</td>\n",
       "      <td>43651753</td>\n",
       "      <td>671683</td>\n",
       "      <td>98.484587</td>\n",
       "      <td>1.515413</td>\n",
       "    </tr>\n",
       "    <tr>\n",
       "      <td>6</td>\n",
       "      <td>SRR7089347</td>\n",
       "      <td>41465994</td>\n",
       "      <td>644577</td>\n",
       "      <td>98.469323</td>\n",
       "      <td>1.530677</td>\n",
       "    </tr>\n",
       "    <tr>\n",
       "      <td>7</td>\n",
       "      <td>SRR7089348</td>\n",
       "      <td>37122262</td>\n",
       "      <td>635621</td>\n",
       "      <td>98.316587</td>\n",
       "      <td>1.683413</td>\n",
       "    </tr>\n",
       "    <tr>\n",
       "      <td>8</td>\n",
       "      <td>SRR7089349</td>\n",
       "      <td>48994035</td>\n",
       "      <td>834526</td>\n",
       "      <td>98.325205</td>\n",
       "      <td>1.674795</td>\n",
       "    </tr>\n",
       "    <tr>\n",
       "      <td>9</td>\n",
       "      <td>SRR7089350</td>\n",
       "      <td>38434775</td>\n",
       "      <td>580821</td>\n",
       "      <td>98.511311</td>\n",
       "      <td>1.488689</td>\n",
       "    </tr>\n",
       "    <tr>\n",
       "      <td>10</td>\n",
       "      <td>SRR7089351</td>\n",
       "      <td>35236639</td>\n",
       "      <td>618954</td>\n",
       "      <td>98.273759</td>\n",
       "      <td>1.726241</td>\n",
       "    </tr>\n",
       "    <tr>\n",
       "      <td>11</td>\n",
       "      <td>SRR7089352</td>\n",
       "      <td>71970686</td>\n",
       "      <td>765303</td>\n",
       "      <td>98.947834</td>\n",
       "      <td>1.052166</td>\n",
       "    </tr>\n",
       "    <tr>\n",
       "      <td>12</td>\n",
       "      <td>SRR7089353</td>\n",
       "      <td>64992671</td>\n",
       "      <td>745411</td>\n",
       "      <td>98.866090</td>\n",
       "      <td>1.133910</td>\n",
       "    </tr>\n",
       "    <tr>\n",
       "      <td>13</td>\n",
       "      <td>SRR7089354</td>\n",
       "      <td>34074996</td>\n",
       "      <td>484219</td>\n",
       "      <td>98.598872</td>\n",
       "      <td>1.401128</td>\n",
       "    </tr>\n",
       "    <tr>\n",
       "      <td>14</td>\n",
       "      <td>SRR7089355</td>\n",
       "      <td>45784541</td>\n",
       "      <td>734464</td>\n",
       "      <td>98.421153</td>\n",
       "      <td>1.578847</td>\n",
       "    </tr>\n",
       "    <tr>\n",
       "      <td>15</td>\n",
       "      <td>SRR7089356</td>\n",
       "      <td>44345120</td>\n",
       "      <td>661538</td>\n",
       "      <td>98.530133</td>\n",
       "      <td>1.469867</td>\n",
       "    </tr>\n",
       "  </tbody>\n",
       "</table>\n",
       "</div>"
      ],
      "text/plain": [
       "        Sample  Surviving  Dropped  Surviving_perc  Dropped_perc\n",
       "0   SRR7089341   30981591   614091       98.056408      1.943592\n",
       "1   SRR7089342   36898654   551204       98.528155      1.471845\n",
       "2   SRR7089343   50542065   818434       98.406491      1.593509\n",
       "3   SRR7089344   62410347  1143297       98.201052      1.798948\n",
       "4   SRR7089345   47146579   535884       98.876140      1.123860\n",
       "5   SRR7089346   43651753   671683       98.484587      1.515413\n",
       "6   SRR7089347   41465994   644577       98.469323      1.530677\n",
       "7   SRR7089348   37122262   635621       98.316587      1.683413\n",
       "8   SRR7089349   48994035   834526       98.325205      1.674795\n",
       "9   SRR7089350   38434775   580821       98.511311      1.488689\n",
       "10  SRR7089351   35236639   618954       98.273759      1.726241\n",
       "11  SRR7089352   71970686   765303       98.947834      1.052166\n",
       "12  SRR7089353   64992671   745411       98.866090      1.133910\n",
       "13  SRR7089354   34074996   484219       98.598872      1.401128\n",
       "14  SRR7089355   45784541   734464       98.421153      1.578847\n",
       "15  SRR7089356   44345120   661538       98.530133      1.469867"
      ]
     },
     "execution_count": 29,
     "metadata": {},
     "output_type": "execute_result"
    }
   ],
   "source": [
    "df_perc = df_new\n",
    "df_perc['Surviving_perc'] = df['Surviving']/df['Input']*100\n",
    "df_perc['Dropped_perc'] = df['Dropped']/df['Input']*100\n",
    "df_perc"
   ]
  },
  {
   "cell_type": "code",
   "execution_count": 30,
   "metadata": {},
   "outputs": [
    {
     "data": {
      "image/png": "[encoded data removed]",
      "text/plain": [
       "<Figure size 432x288 with 1 Axes>"
      ]
     },
     "metadata": {
      "needs_background": "light"
     },
     "output_type": "display_data"
    }
   ],
   "source": [
    "ax = df_perc[['Sample','Surviving','Dropped']].set_index('Sample').plot(kind='barh',stacked=True,colormap=\"Accent\")\n"
   ]
  },
  {
   "cell_type": "code",
   "execution_count": 31,
   "metadata": {},
   "outputs": [],
   "source": [
    "df_map= pd.read_csv('D:/HTA/map_results_sum.csv')"
   ]
  },
  {
   "cell_type": "code",
   "execution_count": 32,
   "metadata": {},
   "outputs": [
    {
     "data": {
      "text/html": [
       "<div>\n",
       "<style scoped>\n",
       "    .dataframe tbody tr th:only-of-type {\n",
       "        vertical-align: middle;\n",
       "    }\n",
       "\n",
       "    .dataframe tbody tr th {\n",
       "        vertical-align: top;\n",
       "    }\n",
       "\n",
       "    .dataframe thead th {\n",
       "        text-align: right;\n",
       "    }\n",
       "</style>\n",
       "<table border=\"1\" class=\"dataframe\">\n",
       "  <thead>\n",
       "    <tr style=\"text-align: right;\">\n",
       "      <th></th>\n",
       "      <th>sample</th>\n",
       "      <th>input</th>\n",
       "      <th>mapped</th>\n",
       "      <th>mapped %</th>\n",
       "      <th>multiple</th>\n",
       "      <th>multiple %</th>\n",
       "    </tr>\n",
       "  </thead>\n",
       "  <tbody>\n",
       "    <tr>\n",
       "      <td>0</td>\n",
       "      <td>SRR7089341</td>\n",
       "      <td>30981591</td>\n",
       "      <td>29667275</td>\n",
       "      <td>95.8</td>\n",
       "      <td>1839559</td>\n",
       "      <td>6.2</td>\n",
       "    </tr>\n",
       "    <tr>\n",
       "      <td>1</td>\n",
       "      <td>SRR7089342</td>\n",
       "      <td>36898654</td>\n",
       "      <td>35222674</td>\n",
       "      <td>95.5</td>\n",
       "      <td>2589354</td>\n",
       "      <td>7.4</td>\n",
       "    </tr>\n",
       "    <tr>\n",
       "      <td>2</td>\n",
       "      <td>SRR7089343</td>\n",
       "      <td>50542065</td>\n",
       "      <td>48463963</td>\n",
       "      <td>95.9</td>\n",
       "      <td>3045729</td>\n",
       "      <td>6.3</td>\n",
       "    </tr>\n",
       "    <tr>\n",
       "      <td>3</td>\n",
       "      <td>SRR7089344</td>\n",
       "      <td>62410347</td>\n",
       "      <td>61000853</td>\n",
       "      <td>97.7</td>\n",
       "      <td>4372382</td>\n",
       "      <td>7.2</td>\n",
       "    </tr>\n",
       "    <tr>\n",
       "      <td>4</td>\n",
       "      <td>SRR7089345</td>\n",
       "      <td>47146579</td>\n",
       "      <td>46037214</td>\n",
       "      <td>97.6</td>\n",
       "      <td>2869155</td>\n",
       "      <td>6.2</td>\n",
       "    </tr>\n",
       "    <tr>\n",
       "      <td>5</td>\n",
       "      <td>SRR7089346</td>\n",
       "      <td>43651753</td>\n",
       "      <td>41921759</td>\n",
       "      <td>96.0</td>\n",
       "      <td>2704466</td>\n",
       "      <td>6.5</td>\n",
       "    </tr>\n",
       "    <tr>\n",
       "      <td>6</td>\n",
       "      <td>SRR7089347</td>\n",
       "      <td>41465994</td>\n",
       "      <td>39659687</td>\n",
       "      <td>95.6</td>\n",
       "      <td>2762037</td>\n",
       "      <td>7.0</td>\n",
       "    </tr>\n",
       "    <tr>\n",
       "      <td>7</td>\n",
       "      <td>SRR7089348</td>\n",
       "      <td>37122262</td>\n",
       "      <td>35630881</td>\n",
       "      <td>96.0</td>\n",
       "      <td>2242134</td>\n",
       "      <td>6.3</td>\n",
       "    </tr>\n",
       "    <tr>\n",
       "      <td>8</td>\n",
       "      <td>SRR7089349</td>\n",
       "      <td>48994035</td>\n",
       "      <td>46942511</td>\n",
       "      <td>95.8</td>\n",
       "      <td>3314135</td>\n",
       "      <td>7.1</td>\n",
       "    </tr>\n",
       "    <tr>\n",
       "      <td>9</td>\n",
       "      <td>SRR7089350</td>\n",
       "      <td>38434775</td>\n",
       "      <td>36405812</td>\n",
       "      <td>94.7</td>\n",
       "      <td>2514646</td>\n",
       "      <td>6.9</td>\n",
       "    </tr>\n",
       "    <tr>\n",
       "      <td>10</td>\n",
       "      <td>SRR7089351</td>\n",
       "      <td>35236639</td>\n",
       "      <td>33606950</td>\n",
       "      <td>95.4</td>\n",
       "      <td>2387578</td>\n",
       "      <td>7.1</td>\n",
       "    </tr>\n",
       "    <tr>\n",
       "      <td>11</td>\n",
       "      <td>SRR7089352</td>\n",
       "      <td>71970686</td>\n",
       "      <td>70710887</td>\n",
       "      <td>98.2</td>\n",
       "      <td>3701382</td>\n",
       "      <td>5.2</td>\n",
       "    </tr>\n",
       "    <tr>\n",
       "      <td>12</td>\n",
       "      <td>SRR7089353</td>\n",
       "      <td>64992671</td>\n",
       "      <td>63817915</td>\n",
       "      <td>98.2</td>\n",
       "      <td>3379570</td>\n",
       "      <td>5.3</td>\n",
       "    </tr>\n",
       "    <tr>\n",
       "      <td>13</td>\n",
       "      <td>SRR7089354</td>\n",
       "      <td>34074996</td>\n",
       "      <td>32724904</td>\n",
       "      <td>96.0</td>\n",
       "      <td>2576563</td>\n",
       "      <td>7.9</td>\n",
       "    </tr>\n",
       "    <tr>\n",
       "      <td>14</td>\n",
       "      <td>SRR7089355</td>\n",
       "      <td>45784541</td>\n",
       "      <td>43995890</td>\n",
       "      <td>96.1</td>\n",
       "      <td>2806309</td>\n",
       "      <td>6.4</td>\n",
       "    </tr>\n",
       "    <tr>\n",
       "      <td>15</td>\n",
       "      <td>SRR7089356</td>\n",
       "      <td>44345120</td>\n",
       "      <td>42565458</td>\n",
       "      <td>96.0</td>\n",
       "      <td>2852166</td>\n",
       "      <td>6.7</td>\n",
       "    </tr>\n",
       "  </tbody>\n",
       "</table>\n",
       "</div>"
      ],
      "text/plain": [
       "        sample     input    mapped  mapped %  multiple  multiple %\n",
       "0   SRR7089341  30981591  29667275      95.8   1839559         6.2\n",
       "1   SRR7089342  36898654  35222674      95.5   2589354         7.4\n",
       "2   SRR7089343  50542065  48463963      95.9   3045729         6.3\n",
       "3   SRR7089344  62410347  61000853      97.7   4372382         7.2\n",
       "4   SRR7089345  47146579  46037214      97.6   2869155         6.2\n",
       "5   SRR7089346  43651753  41921759      96.0   2704466         6.5\n",
       "6   SRR7089347  41465994  39659687      95.6   2762037         7.0\n",
       "7   SRR7089348  37122262  35630881      96.0   2242134         6.3\n",
       "8   SRR7089349  48994035  46942511      95.8   3314135         7.1\n",
       "9   SRR7089350  38434775  36405812      94.7   2514646         6.9\n",
       "10  SRR7089351  35236639  33606950      95.4   2387578         7.1\n",
       "11  SRR7089352  71970686  70710887      98.2   3701382         5.2\n",
       "12  SRR7089353  64992671  63817915      98.2   3379570         5.3\n",
       "13  SRR7089354  34074996  32724904      96.0   2576563         7.9\n",
       "14  SRR7089355  45784541  43995890      96.1   2806309         6.4\n",
       "15  SRR7089356  44345120  42565458      96.0   2852166         6.7"
      ]
     },
     "execution_count": 32,
     "metadata": {},
     "output_type": "execute_result"
    }
   ],
   "source": [
    "df_map"
   ]
  },
  {
   "cell_type": "code",
   "execution_count": 33,
   "metadata": {},
   "outputs": [
    {
     "data": {
      "text/plain": [
       "<matplotlib.axes._subplots.AxesSubplot at 0x1f34b344e88>"
      ]
     },
     "execution_count": 33,
     "metadata": {},
     "output_type": "execute_result"
    },
    {
     "data": {
      "image/png": "[encoded data removed]",
      "text/plain": [
       "<Figure size 432x288 with 1 Axes>"
      ]
     },
     "metadata": {
      "needs_background": "light"
     },
     "output_type": "display_data"
    }
   ],
   "source": [
    "df_map_plot = df_map.drop(['mapped %'],axis=1)\n",
    "df_map_plot = df_map_plot.drop(['multiple %'],axis=1)\n",
    "df_map_plot.set_index('sample').sort_values('sample',ascending=False).plot(kind='barh',stacked=False,colormap=\"Accent\")"
   ]
  }
 ],
 "metadata": {
  "kernelspec": {
   "display_name": "Python 3",
   "language": "python",
   "name": "python3"
  },
  "language_info": {
   "codemirror_mode": {
    "name": "ipython",
    "version": 3
   },
   "file_extension": ".py",
   "mimetype": "text/x-python",
   "name": "python",
   "nbconvert_exporter": "python",
   "pygments_lexer": "ipython3",
   "version": "3.7.4"
  }
 },
 "nbformat": 4,
 "nbformat_minor": 2
}
